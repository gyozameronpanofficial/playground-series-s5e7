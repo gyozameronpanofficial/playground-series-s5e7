{
 "cells": [
  {
   "cell_type": "markdown",
   "id": "b43b8290",
   "metadata": {
    "papermill": {
     "duration": 0.003571,
     "end_time": "2025-07-01T06:18:45.339968",
     "exception": false,
     "start_time": "2025-07-01T06:18:45.336397",
     "status": "completed"
    },
    "tags": []
   },
   "source": [
    "<font color = \"DeepSkyBlue\">**XGBoost: \"Yes, it's me. What a shock, etcetera.\"**\n",
    "\n",
    "This notebook provides a complete baseline solution using the XGBoost algorithm to classify individuals as Introverts or Extroverts based on personality and social behavior features. It is designed for the July 2025 Kaggle Playground Series competition, where the objective is to predict the Personality target variable with maximum accuracy.\n",
    "\n",
    "The workflow begins by importing necessary Python libraries such as pandas, NumPy, scikit-learn, and XGBoost. Then, it loads the provided training, test, and sample submission CSV files from the competition’s dataset directory. The Personality column in the training data, which contains string labels (Introvert, Extrovert), is encoded into numerical format using LabelEncoder to make it suitable for model training.\n",
    "\n",
    "To ensure consistent preprocessing, the training and test feature sets are concatenated. All categorical columns are identified and encoded using OrdinalEncoder, which assigns integer values to string categories. After encoding, the data is split back into training and test sets.\n",
    "\n",
    "The model is built using XGBoost with a basic set of hyperparameters. These include a maximum tree depth of 4 and a learning rate (eta) of 0.1. Stratified 5-fold cross-validation is used to ensure robust evaluation while preserving the class distribution. In each fold, the model is trained on a portion of the data and validated on a held-out set, and early stopping is applied to avoid overfitting.\n",
    "\n",
    "After training, the notebook calculates the cross-validation accuracy based on the out-of-fold predictions. It then averages the predictions made on the test set across all folds. These final predictions are thresholded, converted back to the original string labels using the earlier label encoder, and inserted into the submission template.\n",
    "\n",
    "Finally, the notebook writes the predictions to a submission.csv file, which is ready to be uploaded to Kaggle for evaluation. This solution serves as a clean and efficient starting point. It can be improved further with feature engineering, more advanced models, or ensemble methods."
   ]
  },
  {
   "cell_type": "markdown",
   "id": "21e99273",
   "metadata": {
    "papermill": {
     "duration": 0.002504,
     "end_time": "2025-07-01T06:18:45.345695",
     "exception": false,
     "start_time": "2025-07-01T06:18:45.343191",
     "status": "completed"
    },
    "tags": []
   },
   "source": [
    "<font color = \"DeepSkyBlue\">**Imports**\n",
    "\n",
    "In the first step, the necessary Python libraries are imported. pandas and numpy are used for data manipulation and numerical operations. StratifiedKFold from sklearn.model_selection is used to perform stratified cross-validation, which ensures that each fold maintains the original class distribution. LabelEncoder and OrdinalEncoder from sklearn.preprocessing are used to convert categorical variables into numerical format for modeling. accuracy_score from sklearn.metrics is used to evaluate the model's performance. Lastly, xgboost is imported to train the XGBoost classifier, which will be used to predict whether a person is an Introvert or an Extrovert."
   ]
  },
  {
   "cell_type": "code",
   "execution_count": 1,
   "id": "e71e226c",
   "metadata": {
    "execution": {
     "iopub.execute_input": "2025-07-01T06:18:45.352851Z",
     "iopub.status.busy": "2025-07-01T06:18:45.352161Z",
     "iopub.status.idle": "2025-07-01T06:18:48.639459Z",
     "shell.execute_reply": "2025-07-01T06:18:48.638781Z"
    },
    "papermill": {
     "duration": 3.292639,
     "end_time": "2025-07-01T06:18:48.641051",
     "exception": false,
     "start_time": "2025-07-01T06:18:45.348412",
     "status": "completed"
    },
    "tags": []
   },
   "outputs": [],
   "source": [
    "# 1. Imports\n",
    "import pandas as pd\n",
    "import numpy as np\n",
    "from sklearn.model_selection import StratifiedKFold\n",
    "from sklearn.preprocessing import LabelEncoder, OrdinalEncoder\n",
    "from sklearn.metrics import accuracy_score\n",
    "import xgboost as xgb"
   ]
  },
  {
   "cell_type": "markdown",
   "id": "eac6b59f",
   "metadata": {
    "papermill": {
     "duration": 0.002544,
     "end_time": "2025-07-01T06:18:48.646574",
     "exception": false,
     "start_time": "2025-07-01T06:18:48.644030",
     "status": "completed"
    },
    "tags": []
   },
   "source": [
    "<font color = \"DeepSkyBlue\">**Load data**\n",
    "\n",
    "In this step, the training, test, and sample submission datasets are loaded using pandas. The train.csv file contains both the input features and the target variable (Personality) used to train the model. The test.csv file contains only the input features and is used for generating predictions. The sample_submission.csv file provides the correct format for submitting predictions to the competition. These datasets are read directly from the Kaggle input directory and stored in three separate DataFrame objects: train, test, and submission."
   ]
  },
  {
   "cell_type": "code",
   "execution_count": 2,
   "id": "8f3b83d9",
   "metadata": {
    "execution": {
     "iopub.execute_input": "2025-07-01T06:18:48.653557Z",
     "iopub.status.busy": "2025-07-01T06:18:48.652658Z",
     "iopub.status.idle": "2025-07-01T06:18:48.725575Z",
     "shell.execute_reply": "2025-07-01T06:18:48.724611Z"
    },
    "papermill": {
     "duration": 0.078058,
     "end_time": "2025-07-01T06:18:48.727255",
     "exception": false,
     "start_time": "2025-07-01T06:18:48.649197",
     "status": "completed"
    },
    "tags": []
   },
   "outputs": [],
   "source": [
    "# 2. Load data\n",
    "train = pd.read_csv(\"/kaggle/input/playground-series-s5e7/train.csv\")\n",
    "test = pd.read_csv(\"/kaggle/input/playground-series-s5e7/test.csv\")\n",
    "submission = pd.read_csv(\"/kaggle/input/playground-series-s5e7/sample_submission.csv\")"
   ]
  },
  {
   "cell_type": "markdown",
   "id": "44163ed2",
   "metadata": {
    "papermill": {
     "duration": 0.002704,
     "end_time": "2025-07-01T06:18:48.732909",
     "exception": false,
     "start_time": "2025-07-01T06:18:48.730205",
     "status": "completed"
    },
    "tags": []
   },
   "source": [
    "<font color = \"DeepSkyBlue\">**Encode target**\n",
    "\n",
    "In this step, the target variable Personality, which contains categorical values (Introvert or Extrovert), is converted into numerical format using LabelEncoder. This encoding is necessary because machine learning models like XGBoost require numerical inputs. A new column named Personality_encoded is added to the training dataset, where Introvert and Extrovert are represented as integers (0 and 1, or vice versa)."
   ]
  },
  {
   "cell_type": "code",
   "execution_count": 3,
   "id": "18518dc3",
   "metadata": {
    "execution": {
     "iopub.execute_input": "2025-07-01T06:18:48.739839Z",
     "iopub.status.busy": "2025-07-01T06:18:48.739056Z",
     "iopub.status.idle": "2025-07-01T06:18:48.750652Z",
     "shell.execute_reply": "2025-07-01T06:18:48.749954Z"
    },
    "papermill": {
     "duration": 0.016427,
     "end_time": "2025-07-01T06:18:48.751940",
     "exception": false,
     "start_time": "2025-07-01T06:18:48.735513",
     "status": "completed"
    },
    "tags": []
   },
   "outputs": [],
   "source": [
    "# 3. Encode target\n",
    "le = LabelEncoder()\n",
    "train[\"Personality_encoded\"] = le.fit_transform(train[\"Personality\"])"
   ]
  },
  {
   "cell_type": "markdown",
   "id": "8dde61fe",
   "metadata": {
    "papermill": {
     "duration": 0.002608,
     "end_time": "2025-07-01T06:18:48.757543",
     "exception": false,
     "start_time": "2025-07-01T06:18:48.754935",
     "status": "completed"
    },
    "tags": []
   },
   "source": [
    "<font color = \"DeepSkyBlue\">**Prepare features**\n",
    "\n",
    "In this step, the input features and target variable are separated for model training. The features DataFrame X is created by dropping the id, Personality, and Personality_encoded columns from the training set, since id is not a predictive feature and the target columns should not be included as inputs. The target variable y is assigned from the Personality_encoded column. Similarly, the test set features X_test are prepared by removing the id column, keeping only the relevant input features for prediction."
   ]
  },
  {
   "cell_type": "code",
   "execution_count": 4,
   "id": "28702368",
   "metadata": {
    "execution": {
     "iopub.execute_input": "2025-07-01T06:18:48.764579Z",
     "iopub.status.busy": "2025-07-01T06:18:48.763958Z",
     "iopub.status.idle": "2025-07-01T06:18:48.775410Z",
     "shell.execute_reply": "2025-07-01T06:18:48.774774Z"
    },
    "papermill": {
     "duration": 0.016252,
     "end_time": "2025-07-01T06:18:48.776608",
     "exception": false,
     "start_time": "2025-07-01T06:18:48.760356",
     "status": "completed"
    },
    "tags": []
   },
   "outputs": [],
   "source": [
    "# 4. Prepare features\n",
    "X = train.drop(columns=[\"id\", \"Personality\", \"Personality_encoded\"])\n",
    "y = train[\"Personality_encoded\"]\n",
    "X_test = test.drop(columns=[\"id\"])"
   ]
  },
  {
   "cell_type": "markdown",
   "id": "56226b96",
   "metadata": {
    "papermill": {
     "duration": 0.002728,
     "end_time": "2025-07-01T06:18:48.782377",
     "exception": false,
     "start_time": "2025-07-01T06:18:48.779649",
     "status": "completed"
    },
    "tags": []
   },
   "source": [
    "<font color = \"DeepSkyBlue\">**Encode categorical columns**\n",
    "\n",
    "In this step, categorical features are identified and transformed into numerical values. First, the training and test feature sets (X and X_test) are concatenated vertically into a single DataFrame named combined to ensure consistent encoding across both datasets. The code then identifies all columns with object data types (i.e., categorical text columns) and stores their names in cat_cols. An OrdinalEncoder is applied to these columns, converting each unique category into a unique integer. After encoding, the combined data is split back into the original training (X) and test (X_test) feature sets, preserving the original row order."
   ]
  },
  {
   "cell_type": "code",
   "execution_count": 5,
   "id": "776b3810",
   "metadata": {
    "execution": {
     "iopub.execute_input": "2025-07-01T06:18:48.788980Z",
     "iopub.status.busy": "2025-07-01T06:18:48.788649Z",
     "iopub.status.idle": "2025-07-01T06:18:48.814637Z",
     "shell.execute_reply": "2025-07-01T06:18:48.813711Z"
    },
    "papermill": {
     "duration": 0.031161,
     "end_time": "2025-07-01T06:18:48.816252",
     "exception": false,
     "start_time": "2025-07-01T06:18:48.785091",
     "status": "completed"
    },
    "tags": []
   },
   "outputs": [],
   "source": [
    "# 5. Encode categorical columns\n",
    "combined = pd.concat([X, X_test], axis=0)\n",
    "cat_cols = combined.select_dtypes(include=\"object\").columns.tolist()\n",
    "encoder = OrdinalEncoder()\n",
    "combined[cat_cols] = encoder.fit_transform(combined[cat_cols])\n",
    "\n",
    "X = combined.iloc[:len(X)].reset_index(drop=True)\n",
    "X_test = combined.iloc[len(X):].reset_index(drop=True)"
   ]
  },
  {
   "cell_type": "markdown",
   "id": "2e5c14d2",
   "metadata": {
    "papermill": {
     "duration": 0.002909,
     "end_time": "2025-07-01T06:18:48.822258",
     "exception": false,
     "start_time": "2025-07-01T06:18:48.819349",
     "status": "completed"
    },
    "tags": []
   },
   "source": [
    "<font color = \"DeepSkyBlue\">**Setup XGBoost**\n",
    "\n",
    "In this step, the hyperparameters for the XGBoost model are defined. The objective is set to \"binary:logistic\" since this is a binary classification task (Introvert vs. Extrovert). The evaluation metric is \"logloss\", which is commonly used for binary classification problems. The max_depth parameter limits the depth of each decision tree to 4, helping to control model complexity and overfitting. The eta parameter (learning rate) is set to 0.1 to balance learning speed and stability. subsample and colsample_bytree are both set to 0.8 to introduce randomness and improve generalization. A fixed random_state ensures reproducibility of results."
   ]
  },
  {
   "cell_type": "code",
   "execution_count": 6,
   "id": "e2d78dd6",
   "metadata": {
    "execution": {
     "iopub.execute_input": "2025-07-01T06:18:48.829252Z",
     "iopub.status.busy": "2025-07-01T06:18:48.828942Z",
     "iopub.status.idle": "2025-07-01T06:18:48.833225Z",
     "shell.execute_reply": "2025-07-01T06:18:48.832568Z"
    },
    "papermill": {
     "duration": 0.009309,
     "end_time": "2025-07-01T06:18:48.834532",
     "exception": false,
     "start_time": "2025-07-01T06:18:48.825223",
     "status": "completed"
    },
    "tags": []
   },
   "outputs": [],
   "source": [
    "# 6. Setup XGBoost\n",
    "params = {\n",
    "    \"objective\": \"binary:logistic\",\n",
    "    \"eval_metric\": \"logloss\",\n",
    "    \"max_depth\": 4,\n",
    "    \"eta\": 0.1,\n",
    "    \"subsample\": 0.8,\n",
    "    \"colsample_bytree\": 0.8,\n",
    "    \"random_state\": 42\n",
    "}"
   ]
  },
  {
   "cell_type": "markdown",
   "id": "e0b25e75",
   "metadata": {
    "papermill": {
     "duration": 0.002748,
     "end_time": "2025-07-01T06:18:48.840391",
     "exception": false,
     "start_time": "2025-07-01T06:18:48.837643",
     "status": "completed"
    },
    "tags": []
   },
   "source": [
    "<font color = \"DeepSkyBlue\">**Stratified K-Fold Cross-Validation**\n",
    "\n",
    "In this step, a 5-fold stratified cross-validation strategy is used to train and validate the XGBoost model. Stratification ensures that the class distribution of the target variable (Introvert vs. Extrovert) remains consistent in each fold. For each fold, the data is split into training and validation sets, and the XGBoost model is trained on the training portion using the defined parameters.\n",
    "\n",
    "During training, early stopping is applied to prevent overfitting — the training stops if the validation log loss doesn’t improve after 10 rounds. Predictions are made on the validation fold and stored in the oof_preds array to evaluate model performance later. Predictions on the test set are accumulated and averaged across all folds, ensuring a more stable and robust final prediction."
   ]
  },
  {
   "cell_type": "code",
   "execution_count": 7,
   "id": "24448fe7",
   "metadata": {
    "execution": {
     "iopub.execute_input": "2025-07-01T06:18:48.847248Z",
     "iopub.status.busy": "2025-07-01T06:18:48.846958Z",
     "iopub.status.idle": "2025-07-01T06:18:49.572186Z",
     "shell.execute_reply": "2025-07-01T06:18:49.571525Z"
    },
    "papermill": {
     "duration": 0.730699,
     "end_time": "2025-07-01T06:18:49.573970",
     "exception": false,
     "start_time": "2025-07-01T06:18:48.843271",
     "status": "completed"
    },
    "tags": []
   },
   "outputs": [],
   "source": [
    "# 7. Stratified K-Fold Cross-Validation\n",
    "skf = StratifiedKFold(n_splits=5, shuffle=True, random_state=42)\n",
    "oof_preds = np.zeros(len(X))\n",
    "test_preds = np.zeros(len(X_test))\n",
    "\n",
    "for fold, (train_idx, val_idx) in enumerate(skf.split(X, y)):\n",
    "    X_train, X_val = X.iloc[train_idx], X.iloc[val_idx]\n",
    "    y_train, y_val = y.iloc[train_idx], y.iloc[val_idx]\n",
    "    \n",
    "    dtrain = xgb.DMatrix(X_train, label=y_train)\n",
    "    dval = xgb.DMatrix(X_val, label=y_val)\n",
    "    dtest = xgb.DMatrix(X_test)\n",
    "\n",
    "    model = xgb.train(params, dtrain, num_boost_round=100,\n",
    "                      evals=[(dval, \"valid\")],\n",
    "                      early_stopping_rounds=10, verbose_eval=False)\n",
    "    \n",
    "    oof_preds[val_idx] = model.predict(dval) > 0.5\n",
    "    test_preds += model.predict(dtest) / skf.n_splits"
   ]
  },
  {
   "cell_type": "markdown",
   "id": "14dc6dda",
   "metadata": {
    "papermill": {
     "duration": 0.003564,
     "end_time": "2025-07-01T06:18:49.581528",
     "exception": false,
     "start_time": "2025-07-01T06:18:49.577964",
     "status": "completed"
    },
    "tags": []
   },
   "source": [
    "<font color = \"DeepSkyBlue\">**Evaluate**\n",
    "\n",
    "In step 8, the model’s performance is evaluated by calculating the cross-validation accuracy using the out-of-fold predictions (oof_preds) against the true labels (y). This metric gives a reliable estimate of how well the model generalizes to unseen data.\n",
    "\n",
    "In step 9, the final test predictions are post-processed. The averaged prediction probabilities are thresholded at 0.5 to convert them into binary class labels (0 or 1). These numeric labels are then inverse-transformed back into their original form (Introvert or Extrovert) using the LabelEncoder. Finally, the predictions are inserted into the sample submission format and saved to a file named submission.csv, ready for upload to the Kaggle competition platform."
   ]
  },
  {
   "cell_type": "code",
   "execution_count": 8,
   "id": "bc014be5",
   "metadata": {
    "_cell_guid": "b1076dfc-b9ad-4769-8c92-a6c4dae69d19",
    "_uuid": "8f2839f25d086af736a60e9eeb907d3b93b6e0e5",
    "execution": {
     "iopub.execute_input": "2025-07-01T06:18:49.590311Z",
     "iopub.status.busy": "2025-07-01T06:18:49.589614Z",
     "iopub.status.idle": "2025-07-01T06:18:49.628705Z",
     "shell.execute_reply": "2025-07-01T06:18:49.627653Z"
    },
    "papermill": {
     "duration": 0.045744,
     "end_time": "2025-07-01T06:18:49.630852",
     "exception": false,
     "start_time": "2025-07-01T06:18:49.585108",
     "status": "completed"
    },
    "tags": []
   },
   "outputs": [
    {
     "name": "stdout",
     "output_type": "stream",
     "text": [
      "Cross-Validation Accuracy: 0.9691\n"
     ]
    },
    {
     "data": {
      "text/html": [
       "<div>\n",
       "<style scoped>\n",
       "    .dataframe tbody tr th:only-of-type {\n",
       "        vertical-align: middle;\n",
       "    }\n",
       "\n",
       "    .dataframe tbody tr th {\n",
       "        vertical-align: top;\n",
       "    }\n",
       "\n",
       "    .dataframe thead th {\n",
       "        text-align: right;\n",
       "    }\n",
       "</style>\n",
       "<table border=\"1\" class=\"dataframe\">\n",
       "  <thead>\n",
       "    <tr style=\"text-align: right;\">\n",
       "      <th></th>\n",
       "      <th>id</th>\n",
       "      <th>Personality</th>\n",
       "    </tr>\n",
       "  </thead>\n",
       "  <tbody>\n",
       "    <tr>\n",
       "      <th>0</th>\n",
       "      <td>18524</td>\n",
       "      <td>Extrovert</td>\n",
       "    </tr>\n",
       "    <tr>\n",
       "      <th>1</th>\n",
       "      <td>18525</td>\n",
       "      <td>Introvert</td>\n",
       "    </tr>\n",
       "    <tr>\n",
       "      <th>2</th>\n",
       "      <td>18526</td>\n",
       "      <td>Extrovert</td>\n",
       "    </tr>\n",
       "    <tr>\n",
       "      <th>3</th>\n",
       "      <td>18527</td>\n",
       "      <td>Extrovert</td>\n",
       "    </tr>\n",
       "    <tr>\n",
       "      <th>4</th>\n",
       "      <td>18528</td>\n",
       "      <td>Introvert</td>\n",
       "    </tr>\n",
       "  </tbody>\n",
       "</table>\n",
       "</div>"
      ],
      "text/plain": [
       "      id Personality\n",
       "0  18524   Extrovert\n",
       "1  18525   Introvert\n",
       "2  18526   Extrovert\n",
       "3  18527   Extrovert\n",
       "4  18528   Introvert"
      ]
     },
     "execution_count": 8,
     "metadata": {},
     "output_type": "execute_result"
    }
   ],
   "source": [
    "# 8. Evaluate\n",
    "cv_acc = accuracy_score(y, oof_preds)\n",
    "print(f\"Cross-Validation Accuracy: {cv_acc:.4f}\")\n",
    "\n",
    "# 9. Create submission\n",
    "final_preds = (test_preds > 0.5).astype(int)\n",
    "submission[\"Personality\"] = le.inverse_transform(final_preds)\n",
    "submission.to_csv(\"submission.csv\", index=False)\n",
    "submission.head()\n"
   ]
  }
 ],
 "metadata": {
  "kaggle": {
   "accelerator": "none",
   "dataSources": [
    {
     "databundleVersionId": 12738969,
     "sourceId": 91718,
     "sourceType": "competition"
    }
   ],
   "isGpuEnabled": false,
   "isInternetEnabled": true,
   "language": "python",
   "sourceType": "notebook"
  },
  "kernelspec": {
   "display_name": "Python 3",
   "language": "python",
   "name": "python3"
  },
  "language_info": {
   "codemirror_mode": {
    "name": "ipython",
    "version": 3
   },
   "file_extension": ".py",
   "mimetype": "text/x-python",
   "name": "python",
   "nbconvert_exporter": "python",
   "pygments_lexer": "ipython3",
   "version": "3.11.11"
  },
  "papermill": {
   "default_parameters": {},
   "duration": 9.415812,
   "end_time": "2025-07-01T06:18:50.256013",
   "environment_variables": {},
   "exception": null,
   "input_path": "__notebook__.ipynb",
   "output_path": "__notebook__.ipynb",
   "parameters": {},
   "start_time": "2025-07-01T06:18:40.840201",
   "version": "2.6.0"
  }
 },
 "nbformat": 4,
 "nbformat_minor": 5
}
