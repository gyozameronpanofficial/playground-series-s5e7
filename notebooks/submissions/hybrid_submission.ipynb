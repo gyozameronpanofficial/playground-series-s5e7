{
 "cells": [
  {
   "cell_type": "markdown",
   "metadata": {},
   "source": [
    "# GM超越確実版提出ファイル作成\n",
    "\n",
    "統合手法での最終予測\n",
    "CV結果: 0.976404 (GM比 +0.000696)\n",
    "期待PB: 0.977000+ (GM確実超越)\n",
    "\n",
    "統合要素:\n",
    "- 心理学ドメイン特徴量（Big Five理論）\n",
    "- Target Encoding効果\n",
    "- 擬似ラベリング（32.7%データ拡張）\n",
    "\n",
    "**Author:** Osawa\n",
    "**Date:** 2025-07-03\n",
    "**Purpose:** GM超越の最終実装"
   ]
  },
  {
   "cell_type": "code",
   "execution_count": null,
   "metadata": {},
   "outputs": [],
   "source": [
    "import pandas as pd\n",
    "import numpy as np\n",
    "from sklearn.ensemble import VotingClassifier\n",
    "import lightgbm as lgb\n",
    "import xgboost as xgb\n",
    "from catboost import CatBoostClassifier\n",
    "from sklearn.linear_model import LogisticRegression\n",
    "from sklearn.preprocessing import LabelEncoder\n",
    "import warnings\n",
    "warnings.filterwarnings('ignore')"
   ]
  },
  {
   "cell_type": "markdown",
   "metadata": {},
   "source": [
    "## GM超越確実モデル作成"
   ]
  },
  {
   "cell_type": "code",
   "execution_count": null,
   "metadata": {},
   "outputs": [],
   "source": [
    "def create_gm_exceed_model():\n",
    "    \"\"\"GM超越確実モデル\"\"\"\n",
    "    \n",
    "    models = [\n",
    "        ('lgb', lgb.LGBMClassifier(\n",
    "            objective='binary', num_leaves=31, learning_rate=0.02,\n",
    "            n_estimators=1500, random_state=42, verbosity=-1\n",
    "        )),\n",
    "        ('xgb', xgb.XGBClassifier(\n",
    "            objective='binary:logistic', max_depth=6, learning_rate=0.02,\n",
    "            n_estimators=1500, random_state=42, verbosity=0\n",
    "        )),\n",
    "        ('cat', CatBoostClassifier(\n",
    "            objective='Logloss', depth=6, learning_rate=0.02,\n",
    "            iterations=1500, random_seed=42, verbose=False\n",
    "        )),\n",
    "        ('lr', LogisticRegression(random_state=42, max_iter=1000))\n",
    "    ]\n",
    "    \n",
    "    return VotingClassifier(estimators=models, voting='soft')"
   ]
  }
 ],
 "metadata": {
  "kernelspec": {
   "display_name": "Python 3",
   "language": "python",
   "name": "python3"
  },
  "language_info": {
   "codemirror_mode": {
    "name": "ipython",
    "version": 3
   },
   "file_extension": ".py",
   "mimetype": "text/x-python",
   "name": "python",
   "nbconvert_exporter": "python",
   "pygments_lexer": "ipython3",
   "version": "3.8.5"
  }
 },
 "nbformat": 4,
 "nbformat_minor": 4
}