{
 "cells": [
  {
   "cell_type": "markdown",
   "metadata": {},
   "source": [
    "# 最終提出ファイル作成\n",
    "\n",
    "心理学特徴量 + 擬似ラベリング + アンサンブル による最終予測"
   ]
  },
  {
   "cell_type": "code",
   "execution_count": null,
   "metadata": {},
   "outputs": [],
   "source": [
    "import pandas as pd\n",
    "import numpy as np\n",
    "from sklearn.ensemble import VotingClassifier\n",
    "import lightgbm as lgb\n",
    "import xgboost as xgb\n",
    "from catboost import CatBoostClassifier\n",
    "from sklearn.linear_model import LogisticRegression\n",
    "import warnings\n",
    "warnings.filterwarnings('ignore')"
   ]
  },
  {
   "cell_type": "markdown",
   "metadata": {},
   "source": [
    "## 最終提出用モデル構築"
   ]
  },
  {
   "cell_type": "code",
   "execution_count": null,
   "metadata": {},
   "outputs": [],
   "source": [
    "def create_final_model():\n",
    "    \"\"\"最終提出用モデル構築\"\"\"\n",
    "    \n",
    "    # ベースモデル（最高性能の組み合わせ）\n",
    "    models = [\n",
    "        ('lgb', lgb.LGBMClassifier(\n",
    "            objective='binary', num_leaves=31, learning_rate=0.02,\n",
    "            n_estimators=1500, random_state=42, verbosity=-1\n",
    "        )),\n",
    "        ('xgb', xgb.XGBClassifier(\n",
    "            objective='binary:logistic', max_depth=6, learning_rate=0.02,\n",
    "            n_estimators=1500, random_state=42, verbosity=0\n",
    "        )),\n",
    "        ('cat', CatBoostClassifier(\n",
    "            objective='Logloss', depth=6, learning_rate=0.02,\n",
    "            iterations=1500, random_seed=42, verbose=False\n",
    "        )),\n",
    "        ('lr', LogisticRegression(random_state=42, max_iter=1000))\n",
    "    ]\n",
    "    \n",
    "    # Soft Voting（確率平均）\n",
    "    ensemble = VotingClassifier(estimators=models, voting='soft')\n",
    "    return ensemble"
   ]
  }
 ],
 "metadata": {
  "kernelspec": {
   "display_name": "Python 3",
   "language": "python",
   "name": "python3"
  },
  "language_info": {
   "codemirror_mode": {
    "name": "ipython",
    "version": 3
   },
   "file_extension": ".py",
   "mimetype": "text/x-python",
   "name": "python",
   "nbconvert_exporter": "python",
   "pygments_lexer": "ipython3",
   "version": "3.8.5"
  }
 },
 "nbformat": 4,
 "nbformat_minor": 4
}